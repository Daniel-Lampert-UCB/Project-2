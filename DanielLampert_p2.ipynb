{
 "cells": [
  {
   "cell_type": "markdown",
   "metadata": {
    "colab_type": "text",
    "id": "6t55qCf3Fsxa"
   },
   "source": [
    "# Project 2: Topic Classification"
   ]
  },
  {
   "cell_type": "markdown",
   "metadata": {
    "colab_type": "text",
    "id": "j9-9G8z4Fsxd"
   },
   "source": [
    "In this project, you'll work with text data from newsgroup posts on a variety of topics. You'll train classifiers to distinguish posts by topics inferred from the text. Whereas with digit classification, where each input is relatively dense (represented as a 28x28 matrix of pixels, many of which are non-zero), here each document is relatively sparse (represented as a bag-of-words). Only a few words of the total vocabulary are active in any given document. The assumption is that a label depends only on the count of words, not their order.\n",
    "\n",
    "The `sklearn` documentation on feature extraction may be useful:\n",
    "http://scikit-learn.org/stable/modules/feature_extraction.html\n",
    "\n",
    "Each problem can be addressed succinctly with the included packages -- please don't add any more. Grading will be based on writing clean, commented code, along with a few short answers.\n",
    "\n",
    "As always, you're welcome to work on the project in groups and discuss ideas on Slack, but <b> please prepare your own write-up with your own code. </b>"
   ]
  },
  {
   "cell_type": "code",
   "execution_count": 58,
   "metadata": {
    "colab": {},
    "colab_type": "code",
    "id": "AUYW83LqFsxd"
   },
   "outputs": [],
   "source": [
    "# This tells matplotlib not to try opening a new window for each plot.\n",
    "%matplotlib inline\n",
    "\n",
    "# General libraries.\n",
    "import re\n",
    "import numpy as np\n",
    "import matplotlib.pyplot as plt\n",
    "\n",
    "# SK-learn libraries for learning.\n",
    "from sklearn.pipeline import Pipeline\n",
    "from sklearn.neighbors import KNeighborsClassifier\n",
    "from sklearn.linear_model import LogisticRegression\n",
    "from sklearn.naive_bayes import BernoulliNB\n",
    "from sklearn.naive_bayes import MultinomialNB\n",
    "\n",
    "# SK-learn libraries for evaluation.\n",
    "from sklearn.metrics import confusion_matrix\n",
    "from sklearn import metrics\n",
    "from sklearn.metrics import classification_report\n",
    "\n",
    "# SK-learn library for importing the newsgroup data.\n",
    "from sklearn.datasets import fetch_20newsgroups\n",
    "\n",
    "# SK-learn libraries for feature extraction from text.\n",
    "from sklearn.feature_extraction.text import *\n",
    "\n",
    "import nltk"
   ]
  },
  {
   "cell_type": "markdown",
   "metadata": {
    "colab_type": "text",
    "id": "_ALNjGgCFsxg"
   },
   "source": [
    "Load the data, stripping out metadata so that only textual features will be used, and restricting documents to 4 specific topics. By default, newsgroups data is split into training and test sets, but here the test set gets further split into development and test sets.  (If you remove the categories argument from the fetch function calls, you'd get documents from all 20 topics.)"
   ]
  },
  {
   "cell_type": "code",
   "execution_count": 59,
   "metadata": {
    "colab": {},
    "colab_type": "code",
    "id": "ecYpcoxaFsxh"
   },
   "outputs": [
    {
     "name": "stdout",
     "output_type": "stream",
     "text": [
      "training label shape: (2034,)\n",
      "dev label shape: (676,)\n",
      "test label shape: (677,)\n",
      "labels names: ['alt.atheism', 'comp.graphics', 'sci.space', 'talk.religion.misc']\n"
     ]
    }
   ],
   "source": [
    "categories = ['alt.atheism', 'talk.religion.misc', 'comp.graphics', 'sci.space']\n",
    "newsgroups_train = fetch_20newsgroups(subset='train',\n",
    "                                      remove=('headers', 'footers', 'quotes'),\n",
    "                                      categories=categories)\n",
    "newsgroups_test  = fetch_20newsgroups(subset='test',\n",
    "                                      remove=('headers', 'footers', 'quotes'),\n",
    "                                      categories=categories)\n",
    "\n",
    "num_test = int(len(newsgroups_test.target) / 2)\n",
    "test_data, test_labels   = newsgroups_test.data[num_test:], newsgroups_test.target[num_test:]\n",
    "dev_data, dev_labels     = newsgroups_test.data[:num_test], newsgroups_test.target[:num_test]\n",
    "train_data, train_labels = newsgroups_train.data, newsgroups_train.target\n",
    "\n",
    "print('training label shape:', train_labels.shape)\n",
    "print('dev label shape:',      dev_labels.shape)\n",
    "print('test label shape:',     test_labels.shape)\n",
    "print('labels names:',         newsgroups_train.target_names)"
   ]
  },
  {
   "cell_type": "markdown",
   "metadata": {
    "colab_type": "text",
    "id": "OHTnOke6Fsxk"
   },
   "source": [
    "### Part 1:\n",
    "\n",
    "For each of the first 5 training examples, print the text of the message along with the label."
   ]
  },
  {
   "cell_type": "code",
   "execution_count": 60,
   "metadata": {
    "colab": {},
    "colab_type": "code",
    "id": "X8zhA06xFsxl"
   },
   "outputs": [
    {
     "name": "stdout",
     "output_type": "stream",
     "text": [
      "comp.graphics: Hi,\n",
      "\n",
      "I've noticed that if you only save a model (with all your mapping planes\n",
      "positioned carefully) to a .3DS file that when you reload it after restarting\n",
      "3DS, they are given a default position and orientation.  But if you save\n",
      "to a .PRJ file their positions/orientation are preserved.  Does anyone\n",
      "know why this information is not stored in the .3DS file?  Nothing is\n",
      "explicitly said in the manual about saving texture rules in the .PRJ file. \n",
      "I'd like to be able to read the texture rule information, does anyone have \n",
      "the format for the .PRJ file?\n",
      "\n",
      "Is the .CEL file format available from somewhere?\n",
      "\n",
      "Rych\n",
      "talk.religion.misc: \n",
      "\n",
      "Seems to be, barring evidence to the contrary, that Koresh was simply\n",
      "another deranged fanatic who thought it neccessary to take a whole bunch of\n",
      "folks with him, children and all, to satisfy his delusional mania. Jim\n",
      "Jones, circa 1993.\n",
      "\n",
      "\n",
      "Nope - fruitcakes like Koresh have been demonstrating such evil corruption\n",
      "for centuries.\n",
      "sci.space: \n",
      " >In article <1993Apr19.020359.26996@sq.sq.com>, msb@sq.sq.com (Mark Brader) \n",
      "\n",
      "MB>                                                             So the\n",
      "MB> 1970 figure seems unlikely to actually be anything but a perijove.\n",
      "\n",
      "JG>Sorry, _perijoves_...I'm not used to talking this language.\n",
      "\n",
      "Couldn't we just say periapsis or apoapsis?\n",
      "\n",
      " \n",
      "alt.atheism: I have a request for those who would like to see Charley Wingate\n",
      "respond to the \"Charley Challenges\" (and judging from my e-mail, there\n",
      "appear to be quite a few of you.)  \n",
      "\n",
      "It is clear that Mr. Wingate intends to continue to post tangential or\n",
      "unrelated articles while ingoring the Challenges themselves.  Between\n",
      "the last two re-postings of the Challenges, I noted perhaps a dozen or\n",
      "more posts by Mr. Wingate, none of which answered a single Challenge.  \n",
      "\n",
      "It seems unmistakable to me that Mr. Wingate hopes that the questions\n",
      "will just go away, and he is doing his level best to change the\n",
      "subject.  Given that this seems a rather common net.theist tactic, I\n",
      "would like to suggest that we impress upon him our desire for answers,\n",
      "in the following manner:\n",
      "\n",
      "1. Ignore any future articles by Mr. Wingate that do not address the\n",
      "Challenges, until he answers them or explictly announces that he\n",
      "refuses to do so.\n",
      "\n",
      "--or--\n",
      "\n",
      "2. If you must respond to one of his articles, include within it\n",
      "something similar to the following:\n",
      "\n",
      "    \"Please answer the questions posed to you in the Charley Challenges.\"\n",
      "\n",
      "Really, I'm not looking to humiliate anyone here, I just want some\n",
      "honest answers.  You wouldn't think that honesty would be too much to\n",
      "ask from a devout Christian, would you?  \n",
      "\n",
      "Nevermind, that was a rhetorical question.\n",
      "sci.space: AW&ST  had a brief blurb on a Manned Lunar Exploration confernce\n",
      "May 7th  at Crystal City Virginia, under the auspices of AIAA.\n",
      "\n",
      "Does anyone know more about this?  How much, to attend????\n",
      "\n",
      "Anyone want to go?\n"
     ]
    }
   ],
   "source": [
    "def P1(num_examples=5):\n",
    "    \"Returns first five training samples and their lables\"\n",
    "    first_five_text = train_data[:num_examples] #limits to first 5 examples of text\n",
    "    first_five_labels = train_labels[:num_examples]#limits to first 5 examples of labels\n",
    "    labels_str = np.where(first_five_labels == 0, 'alt.atheism', #converts integers to label\n",
    "         (np.where(first_five_labels ==1, 'comp.graphics', (np.where(first_five_labels ==2, 'sci.space', 'talk.religion.misc'))))) \n",
    "    \n",
    "    for idx,i in enumerate(first_five_text): #iterates over first five examples in train data \n",
    "        for ix, j in enumerate(labels_str):\n",
    "            if idx == ix:\n",
    "                print(f'{j}: {i}')\n",
    "                \n",
    "    \n",
    "\n",
    "            \n",
    "\n",
    "\n",
    "P1(5)"
   ]
  },
  {
   "cell_type": "markdown",
   "metadata": {
    "colab_type": "text",
    "id": "onfno6uHFsxm"
   },
   "source": [
    "### Part 2:\n",
    "\n",
    "Transform the training data into a matrix of **word** unigram feature vectors.  What is the size of the vocabulary? What is the average number of non-zero features per example?  What is the fraction of the non-zero entries in the matrix?  What are the 0th and last feature strings (in alphabetical order)?<br/>\n",
    "_Use `CountVectorization` and its `.fit_transform` method.  Use `.nnz` and `.shape` attributes, and `.get_feature_names` method._\n",
    "\n",
    "Now transform the training data into a matrix of **word** unigram feature vectors using your own vocabulary with these 4 words: [\"atheism\", \"graphics\", \"space\", \"religion\"].  Confirm the size of the vocabulary. What is the average number of non-zero features per example?<br/>\n",
    "_Use `CountVectorization(vocabulary=...)` and its `.transform` method._\n",
    "\n",
    "Now transform the training data into a matrix of **character** bigram and trigram feature vectors.  What is the size of the vocabulary?<br/>\n",
    "_Use `CountVectorization(analyzer=..., ngram_range=...)` and its `.fit_transform` method._\n",
    "\n",
    "Now transform the training data into a matrix of **word** unigram feature vectors and prune words that appear in fewer than 10 documents.  What is the size of the vocabulary?<br/>\n",
    "_Use `CountVectorization(min_df=...)` and its `.fit_transform` method._\n",
    "\n",
    "Now again transform the training data into a matrix of **word** unigram feature vectors. What is the fraction of words in the development vocabulary that is missing from the training vocabulary?<br/>\n",
    "_Hint: Build vocabularies for both train and dev and look at the size of the difference._\n",
    "\n",
    "Notes:\n",
    "* `.fit_transform` makes 2 passes through the data: first it computes the vocabulary (\"fit\"), second it converts the raw text into feature vectors using the vocabulary (\"transform\").\n",
    "* `.fit_transform` and `.transform` return sparse matrix objects.  See about them at http://docs.scipy.org/doc/scipy-0.14.0/reference/generated/scipy.sparse.csr_matrix.html.  "
   ]
  },
  {
   "cell_type": "code",
   "execution_count": 114,
   "metadata": {
    "colab": {},
    "colab_type": "code",
    "id": "LyVwk5RvFsxn"
   },
   "outputs": [
    {
     "name": "stdout",
     "output_type": "stream",
     "text": [
      "The size of the vocabulary is : 26879\n",
      "The average non-zero entries per row is 96.70599803343165\n",
      "The fraction of the non-zero entries in the matrix is 0.0035978272269590263\n",
      "The first string is 00\n",
      "The last string is zyxel\n",
      "The length of the vocabulary we specified is 4\n",
      "the average non-zero entries per example is 0.26843657817109146\n"
     ]
    }
   ],
   "source": [
    "def non_zero(data):\n",
    "    \"Returns average of non-zero entries\"\n",
    "    non_zero_row = np.count_nonzero(data, axis =1)\n",
    "    mean = np.mean(non_zero_row)\n",
    "    return mean\n",
    "\n",
    "def unigram(data):\n",
    "    \"Creates Unigram and returns size of vocab, non-zero entries, fraction of non-zero entries, and first and last string\"\n",
    "    count_vec = CountVectorizer(ngram_range=(1, 1))\n",
    "    X = count_vec.fit_transform(data)\n",
    "    X = X.toarray() #converts it to array type\n",
    "    names = count_vec.get_feature_names()\n",
    "    names = sorted(names)\n",
    "    print(f'The size of the vocabulary is : {len(names)}')\n",
    "    \n",
    "    #Average non-zero entries\n",
    "    print(f'The average non-zero entries per row is {non_zero(X)}')\n",
    "    \n",
    "    #fraction of non-zero to entries in array\n",
    "    non_zero_total = np.count_nonzero(X) #counts non-zero entries in sparse array\n",
    "    print(f'The fraction of the non-zero entries in the matrix is {non_zero_total/54671886}') \n",
    "    \n",
    "    #The frist and last string\n",
    "    print(f'The first string is {names[0]}')\n",
    "    print(f'The last string is {names[-1]}')\n",
    "    \n",
    "unigram(train_data)   \n",
    "\n",
    "def spec_unigram(data, vals =  [\"atheism\", \"graphics\", \"space\", \"religion\"]):\n",
    "    \"Creates unigram using specific vocab\"\n",
    "    count_vec = CountVectorizer(ngram_range=(1,1), vocabulary=vals)\n",
    "    X = count_vec.fit_transform(data)\n",
    "    X = X.toarray()\n",
    "    names = count_vec.get_feature_names() #gets the words in the vocab\n",
    "    #returns length of vocaubulary\n",
    "    print(f'The length of the vocabulary we specified is {len(names)}')\n",
    "    \n",
    "    #get the average of nunber of nonzero entries\n",
    "    print(f'the average non-zero entries per example is {non_zero(X)}')\n",
    "    \n",
    "    \n",
    "spec_unigram(train_data)  \n"
   ]
  },
  {
   "cell_type": "markdown",
   "metadata": {
    "colab_type": "text",
    "id": "ydjkRh6LFsxp"
   },
   "source": [
    "### Part 3:\n",
    "\n",
    "Transform the training and development data to matrices of word unigram feature vectors.\n",
    "\n",
    "1. Produce several k-Nearest Neigbors models by varying k, including one with k set to optimize f1 score.  For each model, show the k value and f1 score.\n",
    "1. Produce several Naive Bayes models by varying smoothing (alpha), including one with alpha set approximately to optimize f1 score.  For each model, show the alpha value and f1 score.\n",
    "1. Produce several Logistic Regression models by varying L2 regularization strength (C), including one with C set approximately to optimize f1 score.  For each model, show the C value, f1 score, and sum of squared weights for each topic.\n",
    "\n",
    "* Why doesn't k-Nearest Neighbors work well for this problem?\n",
    "* Why doesn't Logistic Regression work as well as Naive Bayes does?\n",
    "* What is the relationship between logistic regression's sum of squared weights vs. C value?\n",
    "\n",
    "Notes:\n",
    "* Train on the transformed training data.\n",
    "* Evaluate on the transformed development data.\n",
    "* You can use `CountVectorizer` and its `.fit_transform` and `.transform` methods to transform data.\n",
    "* You can use `KNeighborsClassifier(...)` to produce a k-Nearest Neighbors model.\n",
    "* You can use `MultinomialNB(...)` to produce a Naive Bayes model.\n",
    "* You can use `LogisticRegression(C=..., solver=\"liblinear\", multi_class=\"auto\")` to produce a Logistic Regression model.\n",
    "* You can use `LogisticRegression`'s `.coef_` method to get weights for each topic.\n",
    "* You can use `metrics.f1_score(..., average=\"weighted\")` to compute f1 score."
   ]
  },
  {
   "cell_type": "code",
   "execution_count": null,
   "metadata": {
    "colab": {},
    "colab_type": "code",
    "id": "VvhpODdWFsxp"
   },
   "outputs": [],
   "source": [
    "#def P3():\n",
    "    ### STUDENT START ###\n",
    "    ### STUDENT END ###\n",
    "\n",
    "#P3()"
   ]
  },
  {
   "cell_type": "markdown",
   "metadata": {
    "colab_type": "text",
    "id": "jWtXwAlOFsxr"
   },
   "source": [
    "ANSWER:"
   ]
  },
  {
   "cell_type": "markdown",
   "metadata": {
    "colab_type": "text",
    "id": "dGEjsm_uFsxr"
   },
   "source": [
    "### Part 4:\n",
    "\n",
    "Transform the data to a matrix of word **bigram** feature vectors.  Produce a Logistic Regression model.  For each topic, find the 5 features with the largest weights (that's 20 features in total).  Show a 20 row (features) x 4 column (topics) table of the weights.\n",
    "\n",
    "Do you see any surprising features in this table?\n",
    "\n",
    "Notes:\n",
    "* Train on the transformed training data.\n",
    "* You can use `CountVectorizer` and its `.fit_transform` method to transform data.\n",
    "* You can use `LogisticRegression(C=0.5, solver=\"liblinear\", multi_class=\"auto\")` to produce a Logistic Regression model.\n",
    "* You can use `LogisticRegression`'s `.coef_` method to get weights for each topic.\n",
    "* You can use `np.argsort` to get indices sorted by element value. "
   ]
  },
  {
   "cell_type": "code",
   "execution_count": null,
   "metadata": {
    "colab": {},
    "colab_type": "code",
    "id": "WN51Nv4fFsxs"
   },
   "outputs": [],
   "source": [
    "#def P4():\n",
    "    ### STUDENT START ###\n",
    "    ### STUDENT END ###\n",
    "\n",
    "#P4()"
   ]
  },
  {
   "cell_type": "markdown",
   "metadata": {
    "colab_type": "text",
    "id": "cY67F-tXFsxt"
   },
   "source": [
    "ANSWER:"
   ]
  },
  {
   "cell_type": "markdown",
   "metadata": {
    "colab_type": "text",
    "id": "rVWhSJHHFsxu"
   },
   "source": [
    "### Part 5:\n",
    "\n",
    "To improve generalization, it is common to try preprocessing text in various ways before splitting into words. For example, you could try transforming strings to lower case, replacing sequences of numbers with single tokens, removing various non-letter characters, and shortening long words.\n",
    "\n",
    "Produce a Logistic Regression model (with no preprocessing of text).  Evaluate and show its f1 score and size of the dictionary.\n",
    "\n",
    "Produce an improved Logistic Regression model by preprocessing the text.  Evaluate and show its f1 score and size of the vocabulary.  Try for an improvement in f1 score of at least 0.02.\n",
    "\n",
    "How much did the improved model reduce the vocabulary size?\n",
    "\n",
    "Notes:\n",
    "* Train on the transformed training data.\n",
    "* Evaluate on the transformed development data.\n",
    "* You can use `CountVectorizer(preprocessor=...)` to preprocess strings with your own custom-defined function.\n",
    "* `CountVectorizer` default is to preprocess strings to lower case.\n",
    "* You can use `LogisticRegression(C=0.5, solver=\"liblinear\", multi_class=\"auto\")` to produce a logistic regression model.\n",
    "* You can use `metrics.f1_score(..., average=\"weighted\")` to compute f1 score.\n",
    "* If you're not already familiar with regular expressions for manipulating strings, see https://docs.python.org/2/library/re.html, and re.sub() in particular."
   ]
  },
  {
   "cell_type": "code",
   "execution_count": null,
   "metadata": {
    "colab": {},
    "colab_type": "code",
    "id": "l7gS3cGpFsxv"
   },
   "outputs": [],
   "source": [
    "#def better_preprocessor(s):\n",
    "    ### STUDENT START ###\n",
    "    ### STUDENT END ###\n",
    "\n",
    "#def P5():\n",
    "    ### STUDENT START ###\n",
    "    ### STUDENT END ###\n",
    "\n",
    "#P5()"
   ]
  },
  {
   "cell_type": "markdown",
   "metadata": {
    "colab_type": "text",
    "id": "Uy-WITbNFsxw"
   },
   "source": [
    "### Part 6:\n",
    "\n",
    "The idea of regularization is to avoid learning very large weights (which are likely to fit the training data, but not generalize well) by adding a penalty to the total size of the learned weights. Logistic regression seeks the set of weights that minimizes errors in the training data AND has a small total size. The default L2 regularization computes this size as the sum of the squared weights (as in Part 3 above). L1 regularization computes this size as the sum of the absolute values of the weights. Whereas L2 regularization makes all the weights relatively small, L1 regularization drives many of the weights to 0, effectively removing unimportant features.\n",
    "\n",
    "For several L1 regularization strengths ...<br/>\n",
    "* Produce a Logistic Regression model using the **L1** regularization strength.  Reduce the vocabulary to only those features that have at least one non-zero weight among the four categories.  Produce a new Logistic Regression model using the reduced vocabulary and **L2** regularization strength of 0.5.  Evaluate and show the L1 regularization strength, vocabulary size, and f1 score associated with the new model.\n",
    "\n",
    "Show a plot of f1 score vs. log vocabulary size.  Each point corresponds to a specific L1 regularization strength used to reduce the vocabulary.\n",
    "\n",
    "How does performance of the models based on reduced vocabularies compare to that of a model based on the full vocabulary?\n",
    "\n",
    "Notes:\n",
    "* Train on the transformed training data.\n",
    "* Evaluate on the transformed development data.\n",
    "* You can use `LogisticRegression(..., penalty=\"l1\")` to produce a logistic regression model using L1 regularization.\n",
    "* You can use `LogisticRegression(..., penalty=\"l2\")` to produce a logistic regression model using L2 regularization.\n",
    "* You can use `LogisticRegression(..., tol=0.015)` to produce a logistic regression model using relaxed gradient descent convergence criteria.  The gradient descent code that trains the logistic regression model sometimes has trouble converging with extreme settings of the C parameter. Relax the convergence criteria by setting tol=.015 (the default is .0001)."
   ]
  },
  {
   "cell_type": "code",
   "execution_count": null,
   "metadata": {
    "colab": {},
    "colab_type": "code",
    "id": "l6ho31SrFsxx"
   },
   "outputs": [],
   "source": [
    "#def P6():\n",
    "    # Keep this random seed here to make comparison easier.\n",
    "    #np.random.seed(0)\n",
    "    \n",
    "    ### STUDENT START ###\n",
    "    ### STUDENT END ###\n",
    "\n",
    "#P6()"
   ]
  },
  {
   "cell_type": "markdown",
   "metadata": {
    "colab_type": "text",
    "id": "bZmIPwExFsx1"
   },
   "source": [
    "ANSWER:"
   ]
  },
  {
   "cell_type": "markdown",
   "metadata": {
    "colab_type": "text",
    "id": "QmrHf8AMFsxz"
   },
   "source": [
    "### Part 7:\n",
    "\n",
    "How is `TfidfVectorizer` different than `CountVectorizer`?\n",
    "\n",
    "Produce a Logistic Regression model based on data represented in tf-idf form, with L2 regularization strength of 100.  Evaluate and show the f1 score.  How is `TfidfVectorizer` different than `CountVectorizer`?\n",
    "\n",
    "Show the 3 documents with highest R ratio, where ...<br/>\n",
    "$R\\,ratio = maximum\\,predicted\\,probability \\div predicted\\,probability\\,of\\,correct\\,label$\n",
    "\n",
    "Explain what the R ratio describes.  What kinds of mistakes is the model making? Suggest a way to address one particular issue that you see.\n",
    "\n",
    "Note:\n",
    "* Train on the transformed training data.\n",
    "* Evaluate on the transformed development data.\n",
    "* You can use `TfidfVectorizer` and its `.fit_transform` method to transform data to tf-idf form.\n",
    "* You can use `LogisticRegression(C=100, solver=\"liblinear\", multi_class=\"auto\")` to produce a logistic regression model.\n",
    "* You can use `LogisticRegression`'s `.predict_proba` method to access predicted probabilities."
   ]
  },
  {
   "cell_type": "code",
   "execution_count": null,
   "metadata": {
    "colab": {},
    "colab_type": "code",
    "id": "8vwU_9t2Fsx0"
   },
   "outputs": [],
   "source": [
    "#def P7():\n",
    "    ### STUDENT START ###\n",
    "    ### STUDENT END ###\n",
    "\n",
    "#P7()"
   ]
  },
  {
   "cell_type": "markdown",
   "metadata": {
    "colab_type": "text",
    "id": "bZmIPwExFsx1"
   },
   "source": [
    "ANSWER:"
   ]
  },
  {
   "cell_type": "markdown",
   "metadata": {
    "colab_type": "text",
    "id": "VmsDxtzoFsx1"
   },
   "source": [
    "### Part 8 EXTRA CREDIT:\n",
    "\n",
    "Produce a Logistic Regression model to implement your suggestion from Part 7."
   ]
  },
  {
   "cell_type": "code",
   "execution_count": null,
   "metadata": {
    "colab": {},
    "colab_type": "code",
    "id": "ZMaqe8c5Fsx2"
   },
   "outputs": [],
   "source": []
  }
 ],
 "metadata": {
  "colab": {
   "collapsed_sections": [],
   "name": "firstname_lastname_p2.ipynb",
   "private_outputs": true,
   "provenance": [
    {
     "file_id": "https://github.com/MIDS-W207/Master/blob/master/Projects/firstname_lastname_p2.ipynb",
     "timestamp": 1559779272103
    }
   ],
   "version": "0.3.2"
  },
  "kernelspec": {
   "display_name": "Python 3",
   "language": "python",
   "name": "python3"
  },
  "language_info": {
   "codemirror_mode": {
    "name": "ipython",
    "version": 3
   },
   "file_extension": ".py",
   "mimetype": "text/x-python",
   "name": "python",
   "nbconvert_exporter": "python",
   "pygments_lexer": "ipython3",
   "version": "3.7.4"
  },
  "toc": {
   "base_numbering": 1,
   "nav_menu": {},
   "number_sections": false,
   "sideBar": true,
   "skip_h1_title": true,
   "title_cell": "Table of Contents",
   "title_sidebar": "Contents",
   "toc_cell": false,
   "toc_position": {},
   "toc_section_display": true,
   "toc_window_display": false
  }
 },
 "nbformat": 4,
 "nbformat_minor": 4
}
